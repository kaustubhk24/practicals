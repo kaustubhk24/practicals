{
 "cells": [
  {
   "cell_type": "code",
   "execution_count": 6,
   "metadata": {},
   "outputs": [
    {
     "name": "stdout",
     "output_type": "stream",
     "text": [
      "Please Enter Radius of Circle : 5\n",
      "Area of Circle is :78.5 \n",
      "Perimeter of Circle is :31.400000000000002 \n"
     ]
    }
   ],
   "source": [
    "# 1) Create a Python class named Circle constructed by a radius and two \n",
    "# methods which will compute the area and the perimeter of a circle. \n",
    "\n",
    "class Circle():\n",
    " def __init__(self, r):\n",
    "    self.radius = r\n",
    " def area(self):\n",
    "    return self.radius ** 2 * 3.14\n",
    " def perimeter(self):\n",
    "        return 2 * self.radius * 3.14\n",
    "    \n",
    "    \n",
    "\n",
    "NewCircle = Circle(float(input(\"Please Enter Radius of Circle : \")))\n",
    "print(\"Area of Circle is :{} \".format(NewCircle.area()))\n",
    "print(\"Perimeter of Circle is :{} \".format(NewCircle.perimeter()))\n",
    "\n"
   ]
  },
  {
   "cell_type": "code",
   "execution_count": 7,
   "metadata": {},
   "outputs": [
    {
     "name": "stdout",
     "output_type": "stream",
     "text": [
      "Please Enter Length of Rectangle : 4\n",
      "Please Enter width of Rectangle : 5\n",
      "Area of Rectangle is :20.0 \n"
     ]
    }
   ],
   "source": [
    "#2) Create a Python class named Rectangle constructed by a length and width\n",
    "# and a method which will compute the area of a rectangle.\n",
    "\n",
    "class Rectangle:\n",
    " def __init__(self, length, width):\n",
    "    self.length = length\n",
    "    self.width = width\n",
    " def area(self):\n",
    "    return self.length * self.width\n",
    "\n",
    "l=float(input(\"Please Enter Length of Rectangle : \"))\n",
    "w=float(input(\"Please Enter width of Rectangle : \"))\n",
    "\n",
    "r = Rectangle(l, w)\n",
    "print(\"Area of Rectangle is :{} \".format(r.area()))\n"
   ]
  },
  {
   "cell_type": "code",
   "execution_count": 31,
   "metadata": {},
   "outputs": [
    {
     "name": "stdout",
     "output_type": "stream",
     "text": [
      "Enter No one : 4\n",
      "Enter No two : 5\n",
      "Answer is  9\n"
     ]
    }
   ],
   "source": [
    "# 3)Write a program to implement constructor.\n",
    "import operator\n",
    "from operator import eq, add, sub,mul\n",
    "\n",
    "class calculator:\n",
    "    first, second = 0, 0\n",
    "    def __init__(self, f, s):\n",
    "        self.first = f\n",
    "        self.second = s\n",
    "    def calculate(self):\n",
    "        print(\"Answer is \",self.first+self.second)\n",
    "\n",
    "n1=int(input(\"Enter No one : \"))\n",
    "n2=int(input(\"Enter No two : \"))\n",
    "obj = calculator(n1,n2)\n",
    "obj.calculate()\n"
   ]
  },
  {
   "cell_type": "code",
   "execution_count": 38,
   "metadata": {},
   "outputs": [
    {
     "name": "stdout",
     "output_type": "stream",
     "text": [
      "In Class1\n",
      "In Class2\n",
      "In Class3\n",
      "In Class2\n"
     ]
    }
   ],
   "source": [
    "#4) Write a program to implement multiple inheritance.\n",
    "\n",
    "class Class1:\n",
    "    def m(self):\n",
    "        print(\"In Class1\")\n",
    "class Class2(Class1):\n",
    "    def m(self):\n",
    "        print(\"In Class2\")\n",
    "class Class3(Class1):\n",
    "    def m(self):\n",
    "        print(\"In Class3\")\n",
    "class Class4(Class2, Class3):\n",
    "    pass\n",
    "\n",
    "\n",
    "Class1.m(1)\n",
    "Class2.m(1)\n",
    "Class3.m(1)\n",
    "Class4.m(1)\n"
   ]
  },
  {
   "cell_type": "code",
   "execution_count": 40,
   "metadata": {},
   "outputs": [
    {
     "name": "stdout",
     "output_type": "stream",
     "text": [
      "16\n",
      "13\n"
     ]
    }
   ],
   "source": [
    "# 5) Write a program to implement polymorphism.\n",
    "\n",
    "def add(x, y, z=3):\n",
    "    return x + y + z\n",
    "\n",
    "\n",
    "print(add(6, 7))\n",
    "print(add(2, 5, 6))"
   ]
  },
  {
   "cell_type": "code",
   "execution_count": 53,
   "metadata": {},
   "outputs": [
    {
     "name": "stdout",
     "output_type": "stream",
     "text": [
      "Apple\n",
      "This is Fruits class\n"
     ]
    }
   ],
   "source": [
    "# 6) Write a program to implement method overriding.\n",
    "\n",
    "class Fruits:\n",
    "    def show(self):\n",
    "        print(\"This is Fruits class\")\n",
    "class Apple(Fruits):\n",
    "    def show(self):\n",
    "        print(\"Apple\")\n",
    "        \n",
    "a=Apple()\n",
    "a.show()\n",
    "f=Fruits()\n",
    "f.show()\n"
   ]
  },
  {
   "cell_type": "code",
   "execution_count": 56,
   "metadata": {},
   "outputs": [
    {
     "name": "stdout",
     "output_type": "stream",
     "text": [
      "Class - B Constructor.\n",
      "Class - A Contructor\n",
      "M1 method of Class - A.\n",
      "M2 method of Class - B.\n"
     ]
    }
   ],
   "source": [
    "# 7) Write a program to implement composition\n",
    "class A:\n",
    "    def __init__(self):\n",
    "        print('Class - A Contructor')\n",
    "    def m1(self):\n",
    "        print('M1 method of Class - A.')\n",
    "class B:\n",
    "    def __init__(self):\n",
    "        print('Class - B Constructor.')\n",
    "    def m2(self):\n",
    "        obj = A()\n",
    "        obj.m1()\n",
    "        print('M2 method of Class - B.')\n",
    "        \n",
    "        \n",
    "obj = B()\n",
    "obj.m2()\n"
   ]
  },
  {
   "cell_type": "code",
   "execution_count": 59,
   "metadata": {},
   "outputs": [
    {
     "name": "stdout",
     "output_type": "stream",
     "text": [
      "First Name:  ABC\n",
      "No of Healthy Valves:  4\n"
     ]
    }
   ],
   "source": [
    "# 8) Write a program to implement aggregation\n",
    "class Heart:\n",
    "    def __init__(self, heartValves):\n",
    "        self.heartValves = heartValves\n",
    "    def display(self):\n",
    "        return self.heartValves\n",
    "class Person:\n",
    "    def __init__(self, fname, heartValves):\n",
    "        self.fname = fname\n",
    "        self.heartValves = heartValves # Aggregation\n",
    "    def display(self):\n",
    "        print(\"First Name: \", self.fname)\n",
    "        print(\"No of Healthy Valves: \", hv.display())\n",
    "\n",
    "            \n",
    "hv = Heart(4)\n",
    "p = Person(\"ABC\", hv)\n",
    "p.display()"
   ]
  },
  {
   "cell_type": "code",
   "execution_count": 55,
   "metadata": {},
   "outputs": [
    {
     "name": "stdout",
     "output_type": "stream",
     "text": [
      "Abstract method body in sub Class\n"
     ]
    }
   ],
   "source": [
    "# 9) Write a program to implement abstraction.\n",
    "class One:\n",
    "    def disp(self):\n",
    "        pass\n",
    "class Two(One):\n",
    "    def disp(self):\n",
    "        print(\"Abstract method body in sub Class\")\n",
    "        \n",
    "obj = Two()\n",
    "obj.disp()\n"
   ]
  },
  {
   "cell_type": "code",
   "execution_count": 62,
   "metadata": {},
   "outputs": [
    {
     "name": "stdout",
     "output_type": "stream",
     "text": [
      "Name:  ABC\n",
      "Age:  20\n"
     ]
    }
   ],
   "source": [
    "#10) Write a program to implement to show the use of access specifier.\n",
    "\n",
    "\n",
    "  \n",
    "class User:\n",
    "    def __init__(self, name, age):\n",
    "        self.usrName = name\n",
    "        self.usrAge = age\n",
    "  \n",
    "    def displayAge(self):\n",
    "        print(\"Age: \", self.usrAge)\n",
    "  \n",
    "obj = User(\"ABC\", 20)\n",
    "  \n",
    "print(\"Name: \", obj.usrName)\n",
    "obj.displayAge()"
   ]
  },
  {
   "cell_type": "code",
   "execution_count": null,
   "metadata": {},
   "outputs": [],
   "source": []
  }
 ],
 "metadata": {
  "kernelspec": {
   "display_name": "Python 3",
   "language": "python",
   "name": "python3"
  },
  "language_info": {
   "codemirror_mode": {
    "name": "ipython",
    "version": 3
   },
   "file_extension": ".py",
   "mimetype": "text/x-python",
   "name": "python",
   "nbconvert_exporter": "python",
   "pygments_lexer": "ipython3",
   "version": "3.8.5"
  }
 },
 "nbformat": 4,
 "nbformat_minor": 4
}
