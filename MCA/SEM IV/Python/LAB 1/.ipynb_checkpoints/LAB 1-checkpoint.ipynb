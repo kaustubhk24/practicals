{
 "cells": [
  {
   "cell_type": "code",
   "execution_count": 4,
   "metadata": {},
   "outputs": [
    {
     "name": "stdout",
     "output_type": "stream",
     "text": [
      "Enter number of elements in List :5\n",
      "Enter Element Number 1 :3\n",
      "Enter Element Number 2 :4\n",
      "Enter Element Number 3 :5\n",
      "Enter Element Number 4 :6\n",
      "Enter Element Number 5 :7\n",
      "25\n"
     ]
    }
   ],
   "source": [
    "# Write a program to sum all the items in a list\n",
    "n=int(input(\"Enter number of elements in List :\"))\n",
    "list1=[]\n",
    "for i in range(0,n):\n",
    "    list1.append(int(input(\"Enter Element Number {} :\".format(i+1))))\n",
    "\n",
    "#print(list1)\n",
    "sum=0\n",
    "for i in list1:\n",
    "    sum+=i\n",
    "    \n",
    "print(sum)"
   ]
  },
  {
   "cell_type": "code",
   "execution_count": 6,
   "metadata": {},
   "outputs": [
    {
     "name": "stdout",
     "output_type": "stream",
     "text": [
      "Enter number of elements in List :5\n",
      "Enter Element Number 1 :6\n",
      "Enter Element Number 2 :7\n",
      "Enter Element Number 3 :8\n",
      "Enter Element Number 4 :0\n",
      "Enter Element Number 5 :8\n",
      "Largest is 8 \n",
      "Alternate Method\n",
      "Largest is 8 \n"
     ]
    }
   ],
   "source": [
    "# Write a program to get largest number from list\n",
    "\n",
    "n=int(input(\"Enter number of elements in List :\"))\n",
    "list1=[]\n",
    "for i in range(0,n):\n",
    "    list1.append(int(input(\"Enter Element Number {} :\".format(i+1))))\n",
    "    \n",
    "print(\"Largest is {} \".format(max(list1)))\n",
    "\n",
    "\n",
    "#alternate method\n",
    "largest=0\n",
    "for i in list1:\n",
    "    if i>largest:\n",
    "        largest=i\n",
    "        \n",
    "print(\"Alternate Method\\nLargest is {} \".format(largest))\n"
   ]
  },
  {
   "cell_type": "code",
   "execution_count": 9,
   "metadata": {},
   "outputs": [
    {
     "name": "stdout",
     "output_type": "stream",
     "text": [
      "Enter number of elements in List :6\n",
      "Enter Element Number 1 :5\n",
      "Enter Element Number 2 :4\n",
      "Enter Element Number 3 :4\n",
      "Enter Element Number 4 :3\n",
      "Enter Element Number 5 :1\n",
      "Enter Element Number 6 :3\n",
      "Original List : [5, 4, 4, 3, 1, 3]\n",
      "List after removing duplicates : [5, 4, 3, 1]\n"
     ]
    }
   ],
   "source": [
    "# Write a program to  remove duplicate from list\n",
    "\n",
    "n=int(input(\"Enter number of elements in List :\"))\n",
    "list1=[]\n",
    "for i in range(0,n):\n",
    "    list1.append(int(input(\"Enter Element Number {} :\".format(i+1))))\n",
    "    \n",
    "print(\"Original List : {}\".format(list1))\n",
    "print(\"List after removing duplicates : {}\".format(list(dict.fromkeys(list1))))\n",
    "\n"
   ]
  },
  {
   "cell_type": "code",
   "execution_count": 29,
   "metadata": {},
   "outputs": [
    {
     "name": "stdout",
     "output_type": "stream",
     "text": [
      "Enter a number : 1569\n",
      "Reversed Number is : 9651\n"
     ]
    }
   ],
   "source": [
    "# Write a program to  display reversal of number\n",
    "\n",
    "num=int(input(\"Enter a number : \"))\n",
    "reverse=0\n",
    "while num>0:\n",
    "    rem=num%10\n",
    "    reverse=(reverse*10)+rem\n",
    "    num=num//10\n",
    "    \n",
    "print(\"Reversed Number is : \" +str(reverse))\n"
   ]
  },
  {
   "cell_type": "code",
   "execution_count": 10,
   "metadata": {},
   "outputs": [
    {
     "name": "stdout",
     "output_type": "stream",
     "text": [
      "Enter Number : 3\n",
      "Enter Number : 4\n",
      "Enter Number : 5\n",
      "Maximum Number is 5\n"
     ]
    }
   ],
   "source": [
    "# Write a program to find biggest number among 3\n",
    "\n",
    "arr=[0]*3\n",
    "for i in range(0,3):\n",
    "    arr[i]=int(input(\"Enter Number : \"))\n",
    "\n",
    "print(\"Maximum Number is {}\".format(max(arr)))\n"
   ]
  },
  {
   "cell_type": "code",
   "execution_count": 15,
   "metadata": {},
   "outputs": [
    {
     "name": "stdout",
     "output_type": "stream",
     "text": [
      "Enter your age : 45\n",
      "Eligible for voting\n"
     ]
    }
   ],
   "source": [
    "# Write a program to read person's age from keyboard and display whether is eligible for voting or not\n",
    "\n",
    "def isEligible(age):\n",
    "    if age>18:\n",
    "        print(\"Eligible for voting\")\n",
    "    else:\n",
    "        print(\"Not eligible for voting\")\n",
    "        \n",
    "\n",
    "isEligible(int(input(\"Enter your age : \")))"
   ]
  },
  {
   "cell_type": "code",
   "execution_count": 14,
   "metadata": {},
   "outputs": [
    {
     "name": "stdout",
     "output_type": "stream",
     "text": [
      "Enter String : Kaustubh\n",
      "Given String Kaustubh \n",
      "Enter Substring to check : lamba\n",
      "Is Substring Present? False \n",
      "Length of Kaustubh is 8\n",
      "Reversed String of Kaustubh is hbutsuaK\n",
      "After Trimming String : Kaustubh\n",
      "After Encoding : b'Kaustubh'\n",
      "Lowercase : kaustubh \n",
      "Uppercase : KAUSTUBH\n"
     ]
    }
   ],
   "source": [
    "# Write a program to perform various operatios of string\n",
    "\n",
    "str1=str(input(\"Enter String : \"))\n",
    "\n",
    "print(\"Given String {} \".format(str1))\n",
    "\n",
    "# checking if substring present or not\n",
    "\n",
    "print(\"Is Substring Present? {} \".format(str(input(\"Enter Substring to check : \"))  in str1))\n",
    "\n",
    "\n",
    "# Length of string \n",
    "\n",
    "print(\"Length of {} is {}\".format(str1,len(str1)))\n",
    "\n",
    "\n",
    "\n",
    "# reversing string\n",
    "\n",
    "print(\"Reversed String of {} is {}\".format(str1,str1[::-1]))\n",
    "\n",
    "# trimming string\n",
    "\n",
    "print(\"After Trimming String : {}\".format(str1.strip()))\n",
    "\n",
    "# Encoding String\n",
    "\n",
    "print(\"After Encoding : {}\".format(str1.encode()))\n",
    "\n",
    "#Lowercase\n",
    "\n",
    "print(\"Lowercase : {} \".format(str1.lower()))\n",
    "\n",
    "# Uppercase\n",
    "\n",
    "print(\"Uppercase : {}\".format(str1.upper()))\n",
    "\n"
   ]
  },
  {
   "cell_type": "code",
   "execution_count": 24,
   "metadata": {},
   "outputs": [
    {
     "name": "stdout",
     "output_type": "stream",
     "text": [
      "Enter Line of Text : k austubh, kulkari\n",
      "Number of Characters : 17\n",
      "Number of Blank Spaces : 2\n",
      "Number of Vowels : 6\n"
     ]
    }
   ],
   "source": [
    "# 8.Write a program to accept line of text and find the number of characters, number of vowels and number of blank spaces in it.\n",
    "\n",
    "line=input(\"Enter Line of Text : \").strip()\n",
    "\n",
    "# printing number of chars\n",
    "char_count=0\n",
    "number_of_vowels=0\n",
    "blank_spaces=0\n",
    "\n",
    "#line: consider word seperator ,\n",
    "words=line.split(\",\")\n",
    "for word in words:\n",
    "    for char in word:\n",
    "        char_count+=1\n",
    "        if(char==' '):\n",
    "            blank_spaces+=1\n",
    "        if (char=='a' or char=='e' or char=='i' or char=='o' or char=='u'):\n",
    "            number_of_vowels+=1\n",
    "            \n",
    "\n",
    "print(\"Number of Characters : {}\".format(char_count))\n",
    "print(\"Number of Blank Spaces : {}\".format(blank_spaces))\n",
    "print(\"Number of Vowels : {}\".format(number_of_vowels))\n",
    "\n"
   ]
  },
  {
   "cell_type": "code",
   "execution_count": null,
   "metadata": {},
   "outputs": [],
   "source": []
  },
  {
   "cell_type": "code",
   "execution_count": null,
   "metadata": {},
   "outputs": [],
   "source": []
  }
 ],
 "metadata": {
  "kernelspec": {
   "display_name": "Python 3",
   "language": "python",
   "name": "python3"
  }
 },
 "nbformat": 4,
 "nbformat_minor": 4
}
