{
 "cells": [
  {
   "cell_type": "code",
   "execution_count": 6,
   "metadata": {},
   "outputs": [
    {
     "name": "stdout",
     "output_type": "stream",
     "text": [
      "Lorem ipsum dolor sit amet, consectetur adipiscing elit,\n",
      "\n",
      " sed do eiusmod tempor incididunt ut labore et dolore magna aliqua.\n",
      "\n",
      " A iaculis at erat pellentesque adipiscing commodo elit at.\n",
      "\n",
      " Purus faucibus ornare suspendisse sed.\n",
      "\n",
      " Tortor vitae purus faucibus ornare suspendisse.\n",
      "\n",
      " Etiam non quam lacus suspendisse faucibus interdum posuere.\n",
      "\n",
      " Pellentesque dignissim enim sit amet venenatis urna cursus eget.\n",
      "\n",
      " Feugiat nisl pretium fusce id velit ut tortor pretium viverra. \n",
      "\n",
      "Leo duis ut diam quam nulla porttitor massa. Varius sit amet mattis vulputate enim nulla. \n",
      "\n",
      "Interdum varius sit amet mattis vulputate enim. Sagittis vitae et leo duis ut diam. \n",
      "\n",
      "Ultricies lacus sed turpis tincidunt id aliquet risus feugiat. \n"
     ]
    }
   ],
   "source": [
    "# Write a function in python to read the content from a text file line by line and display the same on screen\n",
    "\n",
    "\n",
    "def LineByLine(file_name):\n",
    "    file=open(file_name)\n",
    "    lines=file.readlines()\n",
    "    for line in lines:\n",
    "        print(line)\n",
    "        \n",
    "LineByLine(\"file.txt\")"
   ]
  },
  {
   "cell_type": "code",
   "execution_count": 4,
   "metadata": {},
   "outputs": [
    {
     "name": "stdout",
     "output_type": "stream",
     "text": [
      "104\n"
     ]
    }
   ],
   "source": [
    "#  Write a function in Python to count and display the total number of words in a text file.\n",
    "\n",
    "\n",
    "def countLines(file_name):\n",
    "    file=open(file_name)\n",
    "    lines=file.readlines()\n",
    "    count=0\n",
    "    for line in lines:\n",
    "        words=line.split()\n",
    "        count+=len(words)\n",
    "    return count\n",
    "    \n",
    "\n",
    "  #calling function\n",
    "\n",
    "print(countLines(\"file.txt\"))"
   ]
  },
  {
   "cell_type": "code",
   "execution_count": 22,
   "metadata": {},
   "outputs": [
    {
     "name": "stdout",
     "output_type": "stream",
     "text": [
      "Python Found 1 times, Line Number : 3\n",
      "Python Found 2 times, Line Number : 4\n",
      "Python Found 3 times, Line Number : 6\n",
      "Python Found 4 times, Line Number : 10\n"
     ]
    }
   ],
   "source": [
    "# Write a function in Python to read lines from a text file and function should find and display the occurrence of the word \"Python\".\n",
    "\n",
    "def findInFile(file_name,wordToFind):\n",
    "    count=0\n",
    "    file=open(file_name)\n",
    "    lines=file.readlines()\n",
    "    for line in lines:\n",
    "        words=line.split()\n",
    "        for word in words:\n",
    "            if (word==wordToFind):\n",
    "                count+=1\n",
    "                print(wordToFind+\" Found \"+str(count)+\" times, Line Number : \"+str(lines.index(line)))\n",
    "\n",
    "                      \n",
    "        \n",
    "    \n",
    "    \n",
    "    \n",
    "findInFile(\"file.txt\",\"Python\")\n"
   ]
  },
  {
   "cell_type": "code",
   "execution_count": 25,
   "metadata": {},
   "outputs": [
    {
     "name": "stdout",
     "output_type": "stream",
     "text": [
      "Word : sit , Length : 3\n",
      "Word : sed , Length : 3\n",
      "Word : do , Length : 2\n",
      "Word : ut , Length : 2\n",
      "Word : et , Length : 2\n",
      "Word : A , Length : 1\n",
      "Word : at , Length : 2\n",
      "Word : at. , Length : 3\n",
      "Word : non , Length : 3\n",
      "Word : sit , Length : 3\n",
      "Word : id , Length : 2\n",
      "Word : ut , Length : 2\n",
      "Word : Leo , Length : 3\n",
      "Word : ut , Length : 2\n",
      "Word : sit , Length : 3\n",
      "Word : sit , Length : 3\n",
      "Word : et , Length : 2\n",
      "Word : leo , Length : 3\n",
      "Word : ut , Length : 2\n",
      "Word : sed , Length : 3\n",
      "Word : id , Length : 2\n"
     ]
    }
   ],
   "source": [
    "# Write a function display_words() in python to read lines from a text file, and display those words, which are less than 4 characters.\n",
    "\n",
    "def wordSizeChecker(file_name,wordSize):\n",
    "    count=0\n",
    "    file=open(file_name)\n",
    "    lines=file.readlines()\n",
    "    for line in lines:\n",
    "        words=line.split()\n",
    "        for word in words:\n",
    "            if (len(word)<wordSize):\n",
    "                count+=1\n",
    "                print(\"Word : {} , Length : {}\".format(word,str(len(word))))\n",
    "\n",
    "                      \n",
    "        \n",
    "    \n",
    "    \n",
    "    \n",
    "wordSizeChecker(\"file.txt\",4)\n"
   ]
  },
  {
   "cell_type": "code",
   "execution_count": 26,
   "metadata": {},
   "outputs": [
    {
     "name": "stdout",
     "output_type": "stream",
     "text": [
      "Word : labore\n",
      "Word : dolore\n",
      "Word : pellentesque\n",
      "Word : ornare\n",
      "Word : suspendisse\n",
      "Word : vitae\n",
      "Word : ornare\n",
      "Word : suspendisse\n",
      "Word : Pellentesque\n",
      "Word : fusce\n",
      "Word : vulputate\n",
      "Word : vulputate\n",
      "Word : vitae\n"
     ]
    }
   ],
   "source": [
    "#Write a function in Python to count words in a text file those are ending with alphabet \"e\"\n",
    "\n",
    "def checkLastChar(file_name,last):\n",
    "    count=0\n",
    "    file=open(file_name)\n",
    "    lines=file.readlines()\n",
    "    for line in lines:\n",
    "        words=line.split()\n",
    "        for word in words:\n",
    "            if word[-1]==last:\n",
    "                count+=1\n",
    "                print(\"Word : {}\".format(word))\n",
    "\n",
    "                      \n",
    "        \n",
    "    \n",
    "    \n",
    "    \n",
    "checkLastChar(\"file.txt\",\"e\")"
   ]
  },
  {
   "cell_type": "code",
   "execution_count": 117,
   "metadata": {},
   "outputs": [
    {
     "name": "stdout",
     "output_type": "stream",
     "text": [
      "success\n",
      "Student found with Roll No 11 , Name : KK | Class : MCA | Fees 54554\n"
     ]
    }
   ],
   "source": [
    "#Write a function to search and display details of student whose rollno is '11' from the binary file student.dat having structure [rollno, name, class and fees].\n",
    "\n",
    "import pickle\n",
    "filename=\"student.dat\"\n",
    "f=open(filename,\"wb\")\n",
    "\n",
    "data=[\n",
    "    {\n",
    "        'rollno':11,\n",
    "        'name':'KK',\n",
    "        'class':'MCA',\n",
    "        'fees':54554\n",
    "    },\n",
    "     {\n",
    "        'rollno':12,\n",
    "        'name':'USER1',\n",
    "        'class':'MCA',\n",
    "        'fees':54554\n",
    "    },\n",
    "    {\n",
    "        'rollno':13,\n",
    "        'name':'USER2',\n",
    "        'class':'MCA',\n",
    "        'fees':54554\n",
    "    }\n",
    "]\n",
    "\n",
    "\n",
    "pickle.dump(data,f)\n",
    "f.close()\n",
    "\n",
    "print(\"success\")\n",
    "\n",
    "infile = open(filename,'rb')\n",
    "dictlist = pickle.load(infile)\n",
    "infile.close()\n",
    "for dict1 in dictlist:\n",
    "    if (dict1[\"rollno\"]==11):\n",
    "        print(\"Student found with Roll No 11 , Name : {} | Class : {} | Fees {}\".format((dict1[\"name\"]),(dict1[\"class\"]),(dict1[\"fees\"])))\n",
    "        \n",
    "\n"
   ]
  },
  {
   "cell_type": "code",
   "execution_count": 44,
   "metadata": {},
   "outputs": [
    {
     "name": "stdout",
     "output_type": "stream",
     "text": [
      " Etiam non quam lacus suspendisse faucibus interdum posuere.\n",
      "\n"
     ]
    }
   ],
   "source": [
    "# Write a program to read line number 4 from the following file\n",
    "# Line1\n",
    "# Line2\n",
    "# Line3\n",
    "# Line4\n",
    "# Line5\n",
    "# Line6\n",
    "\n",
    "\n",
    "def findInFile(file_name,line_no):\n",
    "    count=0\n",
    "    file=open(file_name)\n",
    "    lines=file.readlines()\n",
    "    print(lines[line_no+1])\n",
    "    \n",
    "    \n",
    "    \n",
    "findInFile(\"file.txt\",4)\n",
    "\n",
    "\n",
    "\n"
   ]
  },
  {
   "cell_type": "code",
   "execution_count": 50,
   "metadata": {},
   "outputs": [
    {
     "name": "stdout",
     "output_type": "stream",
     "text": [
      "File.txt\n",
      "LAB 2 16-03-2021.ipynb\n",
      "LAB 2 Python_File Handling.pdf\n",
      "student.dat\n"
     ]
    }
   ],
   "source": [
    "# Write a program to accept the folder name from user and print the list of files and folders from the given folder.\n",
    "\n",
    "import os\n",
    "filenames = next(os.walk(\"C:\\\\Users\\Kaustubh\\\\Downloads\\\\Python\\\\LAB 2\\\\\"))[2]\n",
    "\n",
    "\n",
    "for file in filenames:\n",
    "    print(file)\n"
   ]
  },
  {
   "cell_type": "code",
   "execution_count": 55,
   "metadata": {},
   "outputs": [],
   "source": [
    "# Write a program to copy the content of .jpg file into another file\n",
    "\n",
    "\n",
    "with open('download.jpg','rb') as firstfile, open('1.jpg','wb') as secondfile: \n",
    "      \n",
    "    # read content from first file \n",
    "    for line in firstfile: \n",
    "               \n",
    "             # append content to second file \n",
    "             secondfile.write(line)"
   ]
  },
  {
   "cell_type": "code",
   "execution_count": null,
   "metadata": {},
   "outputs": [],
   "source": []
  }
 ],
 "metadata": {
  "kernelspec": {
   "display_name": "Python 3",
   "language": "python",
   "name": "python3"
  },
  "language_info": {
   "codemirror_mode": {
    "name": "ipython",
    "version": 3
   },
   "file_extension": ".py",
   "mimetype": "text/x-python",
   "name": "python",
   "nbconvert_exporter": "python",
   "pygments_lexer": "ipython3",
   "version": "3.8.5"
  }
 },
 "nbformat": 4,
 "nbformat_minor": 4
}
