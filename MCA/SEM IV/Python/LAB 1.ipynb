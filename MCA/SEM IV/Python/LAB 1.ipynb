{
 "cells": [
  {
   "cell_type": "code",
   "execution_count": 5,
   "metadata": {},
   "outputs": [
    {
     "name": "stdout",
     "output_type": "stream",
     "text": [
      "1225\n"
     ]
    }
   ],
   "source": [
    "# Write a program to sum all the items in a list\n",
    "\n",
    "list1=[*range(1,50)]\n",
    "#print(list1)\n",
    "sum=0\n",
    "for i in list1:\n",
    "    sum+=i\n",
    "    \n",
    "print(sum)"
   ]
  },
  {
   "cell_type": "code",
   "execution_count": 7,
   "metadata": {},
   "outputs": [
    {
     "name": "stdout",
     "output_type": "stream",
     "text": [
      "49\n",
      "49\n"
     ]
    }
   ],
   "source": [
    "# Write a program to get largest number from list\n",
    "\n",
    "list1=[*range(1,50)]\n",
    "\n",
    "print(max(list1))\n",
    "\n",
    "\n",
    "#alternate method\n",
    "largest=0\n",
    "for i in list1:\n",
    "    if i>largest:\n",
    "        largest=i\n",
    "        \n",
    "print(largest)\n"
   ]
  },
  {
   "cell_type": "code",
   "execution_count": 10,
   "metadata": {},
   "outputs": [
    {
     "name": "stdout",
     "output_type": "stream",
     "text": [
      "[5, 1, 2, 3, 4, 6, 7, 8, 0, 9]\n"
     ]
    }
   ],
   "source": [
    "# Write a program to  remove duplicate from list\n",
    "\n",
    "list1=[5,1,2,3,4,5,6,7,8,1,2,3,0,9,8,6,4,3]\n",
    "\n",
    "print(list(dict.fromkeys(list1)))\n",
    "\n"
   ]
  },
  {
   "cell_type": "code",
   "execution_count": 29,
   "metadata": {},
   "outputs": [
    {
     "name": "stdout",
     "output_type": "stream",
     "text": [
      "Enter a number : 1569\n",
      "Reversed Number is : 9651\n"
     ]
    }
   ],
   "source": [
    "# Write a program to  display reversal of number\n",
    "\n",
    "num=int(input(\"Enter a number : \"))\n",
    "reverse=0\n",
    "while num>0:\n",
    "    rem=num%10\n",
    "    reverse=(reverse*10)+rem\n",
    "    num=num//10\n",
    "    \n",
    "print(\"Reversed Number is : \" +str(reverse))\n"
   ]
  },
  {
   "cell_type": "code",
   "execution_count": 43,
   "metadata": {},
   "outputs": [
    {
     "name": "stdout",
     "output_type": "stream",
     "text": [
      "Enter Number : 13\n",
      "Enter Number : 65\n",
      "Enter Number : 99\n",
      "99\n"
     ]
    }
   ],
   "source": [
    "# Write a program to find biggest number among 3\n",
    "\n",
    "arr=[0]*3\n",
    "for i in range(0,3):\n",
    "    arr[i]=int(input(\"Enter Number : \"))\n",
    "\n",
    "print(max(arr))\n"
   ]
  },
  {
   "cell_type": "code",
   "execution_count": 46,
   "metadata": {},
   "outputs": [
    {
     "name": "stdout",
     "output_type": "stream",
     "text": [
      "Enter Age : 13\n",
      "Not eligible for voting\n"
     ]
    }
   ],
   "source": [
    "# Write a program to read person's age from keyboard and display whether is eligible for voting or not\n",
    "\n",
    "def isEligible(age):\n",
    "    if age>18:\n",
    "        print(\"Eligible for voting\")\n",
    "    else:\n",
    "        print(\"Not eligible for voting\")\n",
    "        \n",
    "\n"
   ]
  },
  {
   "cell_type": "code",
   "execution_count": 63,
   "metadata": {},
   "outputs": [
    {
     "name": "stdout",
     "output_type": "stream",
     "text": [
      "Enter String : Kaustubh \n",
      "Kaustubh \n",
      "9\n",
      "False\n",
      " hbutsuaK\n",
      "Kaustubh\n",
      "b'Kaustubh '\n",
      "kaustubh \n",
      "KAUSTUBH \n"
     ]
    }
   ],
   "source": [
    "# Write a program to perform various operatios of string\n",
    "\n",
    "str1=str(input(\"Enter String : \"))\n",
    "\n",
    "print(str1)\n",
    "\n",
    "# Length of string \n",
    "\n",
    "print(len(str1))\n",
    "\n",
    "# checking if substring present or not\n",
    "\n",
    "print(\"abc \"  in str1)\n",
    "\n",
    "# reversing string\n",
    "\n",
    "print(str1[::-1])\n",
    "\n",
    "# trimming string\n",
    "\n",
    "print(str1.strip())\n",
    "\n",
    "# Encoding String\n",
    "\n",
    "print(str1.encode())\n",
    "\n",
    "#Lowercase\n",
    "\n",
    "print(str1.lower())\n",
    "\n",
    "# Uppercase\n",
    "\n",
    "print(str1.upper())\n",
    "\n"
   ]
  },
  {
   "cell_type": "code",
   "execution_count": 67,
   "metadata": {},
   "outputs": [
    {
     "name": "stdout",
     "output_type": "stream",
     "text": [
      "Enter String : IMCC is located in kothrud Pune\n",
      "31\n"
     ]
    }
   ],
   "source": [
    "# Write a program to accept line of text and find number of characters\n",
    "\n",
    "str1=str(input(\"Enter String : \"))\n",
    "\n",
    "# Length of string \n",
    "\n",
    "print(len(str1))"
   ]
  },
  {
   "cell_type": "code",
   "execution_count": null,
   "metadata": {},
   "outputs": [],
   "source": []
  }
 ],
 "metadata": {
  "kernelspec": {
   "display_name": "Python 3",
   "language": "python",
   "name": "python3"
  },
  "language_info": {
   "codemirror_mode": {
    "name": "ipython",
    "version": 3
   },
   "file_extension": ".py",
   "mimetype": "text/x-python",
   "name": "python",
   "nbconvert_exporter": "python",
   "pygments_lexer": "ipython3",
   "version": "3.8.5"
  }
 },
 "nbformat": 4,
 "nbformat_minor": 4
}
