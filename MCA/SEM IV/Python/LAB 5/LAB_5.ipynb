{
  "nbformat": 4,
  "nbformat_minor": 0,
  "metadata": {
    "colab": {
      "name": "LAB 5.ipynb",
      "provenance": []
    },
    "kernelspec": {
      "name": "python3",
      "display_name": "Python 3"
    },
    "language_info": {
      "name": "python"
    }
  },
  "cells": [
    {
      "cell_type": "code",
      "metadata": {
        "colab": {
          "base_uri": "https://localhost:8080/"
        },
        "id": "CPcGxpHYgI5H",
        "outputId": "cbb7ebea-5f0d-4a63-e1fd-a76b997c8917"
      },
      "source": [
        "#Kaustubh Kulkarni 1911027\n",
        "\n",
        "# 1.\tProgram for performing some addition, sum, product and division operation on given input and handle all types of Exceptions using Attribute Error, Value Error and Division by Zero Error, etc\n",
        "\n",
        "try:\n",
        "  n1=int(input(\"Enter Integer 1:\"))\n",
        "  n2=int(input(\"Enter Integer 2:\"))\n",
        "  print(\" N1 * N2 = \", n1*n2)\n",
        "  print(\" N1 / N2 =\",n1/n2)\n",
        "  print(\" N1 + N2 =\",n1+n2)\n",
        "  print(\" N1 - N2 =\",n1-n2)\n",
        "except ValueError:\n",
        "  print(\"ValueError- Please enter valid number\")\n",
        "except ZeroDivisionError:\n",
        "  print(\"ZeroDivisionError: You can not divide number by 0\") \n",
        "except AttributeError:\n",
        "  print(\"AttributeError: Attribute is not valid\")\n",
        "except e as Exception:\n",
        "  print(\"Unhandled Exception Ocurred : \",e)\n",
        "finally:\n",
        "  print(\"Program terminated\")"
      ],
      "execution_count": null,
      "outputs": [
        {
          "output_type": "stream",
          "text": [
            "Enter Integer 1:6\n",
            "Enter Integer 2:0\n",
            " N1 * N2 =  0\n",
            "ZeroDivisionError: You can not divide number by 0\n",
            "Program terminated\n"
          ],
          "name": "stdout"
        }
      ]
    },
    {
      "cell_type": "code",
      "metadata": {
        "colab": {
          "base_uri": "https://localhost:8080/"
        },
        "id": "3NXfYteOhFOE",
        "outputId": "c8807214-bfbd-426b-c15d-aa456b217733"
      },
      "source": [
        "#Kaustubh Kulkarni 1911027\n",
        "\n",
        "# 2.\tProgram to for all type of file Errors occurred in opening a file input by user and perform operation like read write and append on file, close the file in finally block.\n",
        "\n",
        "file_name=str(input('Please enter valid file name :'))\n",
        "try:\n",
        "  f=open(file_name)\n",
        "\n",
        "  n=input(\"Enter content to write on file :\")\n",
        "  f.write(n)\n",
        "  f.close()\n",
        "except ValueError:\n",
        "  print(\"ValueError- Please enter valid File Name\")\n",
        "except OSError:\n",
        "    print (\"Could not open/read file:\", file_name)\n",
        "except FileNotFoundError:\n",
        "  print (\"File does not exists:\", file_name)\n",
        "except IOError:\n",
        "    print('file not found', file_name)\n",
        "except e as Exception:\n",
        "  print(\"Exception occured \",e)\n",
        "finally:\n",
        "#  f.close()\n",
        "  print(\"Program terminated\")\n",
        "\n"
      ],
      "execution_count": null,
      "outputs": [
        {
          "output_type": "stream",
          "text": [
            "Please enter valid file name :k\n",
            "Could not open/read file: k\n",
            "Program terminated\n"
          ],
          "name": "stdout"
        }
      ]
    },
    {
      "cell_type": "code",
      "metadata": {
        "colab": {
          "base_uri": "https://localhost:8080/"
        },
        "id": "pq6rR_3Tnpc5",
        "outputId": "d11efb15-e306-4ff9-9b3f-58dd0e50de11"
      },
      "source": [
        "# 3.\tProgram to demonstrate the use if else block in Try Except block.\n",
        "\n",
        "def divider(x, y):\n",
        "    try:\n",
        "        result = x // y\n",
        "    except ZeroDivisionError:\n",
        "        print(\"Error: dividing by zero \")\n",
        "    else:\n",
        "        print(\"Answer is :\", result)\n",
        "    finally: \n",
        "        print('Program Terminated')  \n",
        " \n",
        "divider(3, 2)"
      ],
      "execution_count": null,
      "outputs": [
        {
          "output_type": "stream",
          "text": [
            "Answer is : 1\n",
            "Program Terminated\n"
          ],
          "name": "stdout"
        }
      ]
    },
    {
      "cell_type": "code",
      "metadata": {
        "colab": {
          "base_uri": "https://localhost:8080/"
        },
        "id": "lWZDe9M6oI5N",
        "outputId": "0a0bc719-8dc5-46f4-a642-eca9bc4ee60a"
      },
      "source": [
        "# 4.\tProgram to creating a thread to print the even numbers from 10 to 20  by using Thread Class \n",
        "from _thread import *\n",
        "import threading as thread\n",
        "\n",
        "\n",
        "def even(name,timer):\n",
        "  for i in range(10,20):\n",
        "    if i%2==0:\n",
        "      print(name+\" : \"+str(i))\n",
        "\n",
        "\n",
        "\n",
        "try:\n",
        "   thread.start_new_thread( even, (\"Thread\", 2, ) )\n",
        "except Exception as e:\n",
        "   print (\"Error: \",e)"
      ],
      "execution_count": 1,
      "outputs": [
        {
          "output_type": "stream",
          "text": [
            "Thread : 10\n",
            "Thread : 12\n",
            "Thread : 14\n",
            "Thread : 16\n",
            "Thread : 18\n"
          ],
          "name": "stdout"
        }
      ]
    },
    {
      "cell_type": "code",
      "metadata": {
        "colab": {
          "base_uri": "https://localhost:8080/"
        },
        "id": "pH1g4xQSoyBZ",
        "outputId": "eb3a7af7-8fed-4e51-d6a3-a1f92b6b36fd"
      },
      "source": [
        "# 5.\tProgram to create following threads\n",
        "#  1. First thread to print the square of a number entered by user, \n",
        "#  2. Second thread to print the cube of a number and show the result. Use start and join operations.\n",
        "from _thread import *\n",
        "import threading as thread\n",
        "\n",
        "\n",
        "def sqr(name,num):\n",
        "  print(name+\" : \",num*num)\n",
        "\n",
        "def cube(name,num):\n",
        "  print(name+\" : \",num*num*num)\n",
        "\n",
        "\n",
        "try:\n",
        "  no=int(input(\"enter number : \"))\n",
        "  thread.start_new_thread( sqr, (\"\\nThread - 1: Square:\", no ) )\n",
        "  thread.start_new_thread( cube, (\"\\nThread - 2: Cube :\", no ) )\n",
        "  \n",
        "  #join()\n",
        "  numTuple = ['1', '2', '3', '4']\n",
        "  print(\"#\".join(numTuple))\n",
        "\n",
        "except Exception as e:\n",
        "   print (\"Error: \",e)\n"
      ],
      "execution_count": null,
      "outputs": [
        {
          "output_type": "stream",
          "text": [
            "enter number : 9\n",
            "1#2#3#4\n",
            "Thread - 1: Square: :  81\n",
            "\n",
            "Thread - 2: Cube : :  729\n",
            "\n"
          ],
          "name": "stdout"
        }
      ]
    },
    {
      "cell_type": "code",
      "metadata": {
        "id": "MnRFf6QAyULl"
      },
      "source": [
        "# End"
      ],
      "execution_count": null,
      "outputs": []
    }
  ]
}