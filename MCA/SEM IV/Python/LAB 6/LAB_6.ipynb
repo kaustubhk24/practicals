{
  "nbformat": 4,
  "nbformat_minor": 0,
  "metadata": {
    "colab": {
      "name": "LAB 6.ipynb",
      "provenance": []
    },
    "kernelspec": {
      "name": "python3",
      "display_name": "Python 3"
    },
    "language_info": {
      "name": "python"
    }
  },
  "cells": [
    {
      "cell_type": "code",
      "metadata": {
        "id": "DuTnxCdvG8Fh",
        "colab": {
          "base_uri": "https://localhost:8080/",
          "height": 0
        },
        "outputId": "245e96be-f9bf-4783-9111-a6c02a28418c"
      },
      "source": [
        "# 1.\tProgram to get the maximum value from given matrix\n",
        "\n",
        "import numpy as np\n",
        "import pandas as pd\n",
        "matrix = [(100, 63, 47),\n",
        "          (11, 103, 117),\n",
        "          (49, 36, 55),\n",
        "          (75,24, 34),\n",
        "          (89, 21, 44)\n",
        "          ]\n",
        " \n",
        "panda_max = pd.DataFrame(matrix, index = list('symca'), columns = list('psk'))\n",
        "maxValues = panda_max.max()\n",
        "print(maxValues)"
      ],
      "execution_count": 11,
      "outputs": [
        {
          "output_type": "stream",
          "text": [
            "p    100\n",
            "s    103\n",
            "k    117\n",
            "dtype: int64\n"
          ],
          "name": "stdout"
        }
      ]
    },
    {
      "cell_type": "code",
      "metadata": {
        "id": "r2lApHQNHCVn",
        "colab": {
          "base_uri": "https://localhost:8080/",
          "height": 0
        },
        "outputId": "11a2e3e4-8c27-4664-eb57-c0bf2b819b48"
      },
      "source": [
        "#2.Program to select the elements from a given matrix\n",
        "import pandas as pd\n",
        "import numpy as np\n",
        "  \n",
        "data = np.array(['Dwayne','John','Steve','Hulk','Orton','Leo','Kofi'])\n",
        "ser = pd.Series(data)\n",
        "   \n",
        "print(ser[:3])"
      ],
      "execution_count": 10,
      "outputs": [
        {
          "output_type": "stream",
          "text": [
            "0    Dwayne\n",
            "1      John\n",
            "2     Steve\n",
            "dtype: object\n"
          ],
          "name": "stdout"
        }
      ]
    },
    {
      "cell_type": "code",
      "metadata": {
        "id": "-Oe4i5W1HDkY",
        "colab": {
          "base_uri": "https://localhost:8080/",
          "height": 0
        },
        "outputId": "7bb43a0f-d927-477d-82a9-0722031c2579"
      },
      "source": [
        "#3.Program to find the sum of values in a matrix\n",
        "import numpy as np \n",
        "       \n",
        "arr = [[114, 117, 19, 33, 44],   \n",
        "       [15, 6, 27, 8, 19],  \n",
        "       [23, 2, 54, 1, 24,]]  \n",
        "   \n",
        "print(\"Sum of array : \", np.sum(arr)) \n",
        "print(\"Sum of arr(float32) : \", np.sum(arr, dtype = np.float32))\n",
        "   "
      ],
      "execution_count": 9,
      "outputs": [
        {
          "output_type": "stream",
          "text": [
            "Sum of array :  506\n",
            "Sum of arr(float32) :  506.0\n"
          ],
          "name": "stdout"
        }
      ]
    },
    {
      "cell_type": "code",
      "metadata": {
        "id": "qOHEIUAmHMed",
        "colab": {
          "base_uri": "https://localhost:8080/",
          "height": 0
        },
        "outputId": "0975b3f8-b2a6-4bb7-f620-2de10dd39852"
      },
      "source": [
        "#4.Program to calculate the sum of the diagonal elements of a NumPy array\n",
        "import numpy as np\n",
        "  \n",
        "n_array = np.array([[95, 25, 15],\n",
        "                    [30, 24, 2],\n",
        "                    [14, 25, 47]])\n",
        "  \n",
        "print(\"Numpy Matrix is:\")\n",
        "print(n_array)\n",
        "  \n",
        "trace = np.trace(n_array)\n",
        "print(\"Trace of given matrix:\")\n",
        "print(trace)"
      ],
      "execution_count": 8,
      "outputs": [
        {
          "output_type": "stream",
          "text": [
            "Numpy Matrix is:\n",
            "[[95 25 15]\n",
            " [30 24  2]\n",
            " [14 25 47]]\n",
            "Trace of given matrix:\n",
            "166\n"
          ],
          "name": "stdout"
        }
      ]
    },
    {
      "cell_type": "code",
      "metadata": {
        "id": "yFLc4dibHRPs",
        "colab": {
          "base_uri": "https://localhost:8080/",
          "height": 0
        },
        "outputId": "bd0d4bfe-cd59-4e06-fb4f-dd050705956f"
      },
      "source": [
        "#5.Program to create a Numpy array filled with all ones.\n",
        "import numpy as np \n",
        "  \n",
        "a = np.ones(3, dtype = int) \n",
        "print(\"Matrix a:\", a) \n",
        "  \n",
        "b = np.ones([4, 4], dtype = int) \n",
        "print(\"Matrix b:\", b) "
      ],
      "execution_count": 7,
      "outputs": [
        {
          "output_type": "stream",
          "text": [
            "Matrix a: [1 1 1]\n",
            "Matrix b: [[1 1 1 1]\n",
            " [1 1 1 1]\n",
            " [1 1 1 1]\n",
            " [1 1 1 1]]\n"
          ],
          "name": "stdout"
        }
      ]
    },
    {
      "cell_type": "code",
      "metadata": {
        "id": "vwrDJ9vCHR15",
        "colab": {
          "base_uri": "https://localhost:8080/",
          "height": 0
        },
        "outputId": "2705e00b-8615-4a30-cec3-d99bc3593466"
      },
      "source": [
        "#6.Program toCreate a Pandas DataFrame from List of Dicts\n",
        "import pandas as pd \n",
        "data = [{'401': 'Python', '402': 'ISSA', '403': 'OT','404':'EAF','405':'KRAI'},\n",
        "        {'401':'Programming','402':'Security','403':'Maths','404':'Architecture','405':'AI'}] \n",
        "    \n",
        "dbs= pd.DataFrame(data, index =['subject','Description']) \n",
        "     \n",
        "print (dbs, \"\\n\")  "
      ],
      "execution_count": 6,
      "outputs": [
        {
          "output_type": "stream",
          "text": [
            "                     401       402    403           404   405\n",
            "subject           Python      ISSA     OT           EAF  KRAI\n",
            "Description  Programming  Security  Maths  Architecture    AI \n",
            "\n"
          ],
          "name": "stdout"
        }
      ]
    },
    {
      "cell_type": "code",
      "metadata": {
        "id": "_jFsl5gWHR5V",
        "colab": {
          "base_uri": "https://localhost:8080/",
          "height": 0
        },
        "outputId": "6d3f3956-1c2a-4f08-c6b1-6480d9ae0009"
      },
      "source": [
        "#7.Program toCreating Pandas dataframe using list of lists\n",
        "import pandas as pd \n",
        "data = [['Python','Basics',5], ['Python', 'OOPs',6], ['Python','Exception Handling',2] ,\n",
        "        ['Python', 'Database',4], \n",
        "        ['Python', 'REgular Expressions',3],\n",
        "        ['Python', 'Data Analysis',6] ] \n",
        "\n",
        "df = pd.DataFrame(data, columns = ['Category', 'Name','No of lecture']) \n",
        "print(df )"
      ],
      "execution_count": 5,
      "outputs": [
        {
          "output_type": "stream",
          "text": [
            "  Category                 Name  No of lecture\n",
            "0   Python               Basics              5\n",
            "1   Python                 OOPs              6\n",
            "2   Python   Exception Handling              2\n",
            "3   Python             Database              4\n",
            "4   Python  REgular Expressions              3\n",
            "5   Python        Data Analysis              6\n"
          ],
          "name": "stdout"
        }
      ]
    },
    {
      "cell_type": "code",
      "metadata": {
        "id": "iPaBuiMiHYc7",
        "colab": {
          "base_uri": "https://localhost:8080/",
          "height": 275
        },
        "outputId": "3d6b7a9a-e2f5-4dc3-bcd3-8a49268afba5"
      },
      "source": [
        "#8.Program to add column in to Dataframe\n",
        "import pandas as pd\n",
        "  \n",
        "data = {'Name': ['Snake', 'Prince', 'Gangsta', 'Wolf'],\n",
        "        'City':['Pune','Nasik','Kolhapur','Bangalore'],\n",
        "        'Qualification': ['Msc', 'MA', 'Msc', 'Msc']}\n",
        "df = pd.DataFrame(data)\n",
        "print(\"Old:\\n\",df)\n",
        "df.insert(1, \"Age\", [21, 23, 24, 21], True)\n",
        "df"
      ],
      "execution_count": 4,
      "outputs": [
        {
          "output_type": "stream",
          "text": [
            "Old:\n",
            "       Name       City Qualification\n",
            "0    Snake       Pune           Msc\n",
            "1   Prince      Nasik            MA\n",
            "2  Gangsta   Kolhapur           Msc\n",
            "3     Wolf  Bangalore           Msc\n"
          ],
          "name": "stdout"
        },
        {
          "output_type": "execute_result",
          "data": {
            "text/html": [
              "<div>\n",
              "<style scoped>\n",
              "    .dataframe tbody tr th:only-of-type {\n",
              "        vertical-align: middle;\n",
              "    }\n",
              "\n",
              "    .dataframe tbody tr th {\n",
              "        vertical-align: top;\n",
              "    }\n",
              "\n",
              "    .dataframe thead th {\n",
              "        text-align: right;\n",
              "    }\n",
              "</style>\n",
              "<table border=\"1\" class=\"dataframe\">\n",
              "  <thead>\n",
              "    <tr style=\"text-align: right;\">\n",
              "      <th></th>\n",
              "      <th>Name</th>\n",
              "      <th>Age</th>\n",
              "      <th>City</th>\n",
              "      <th>Qualification</th>\n",
              "    </tr>\n",
              "  </thead>\n",
              "  <tbody>\n",
              "    <tr>\n",
              "      <th>0</th>\n",
              "      <td>Snake</td>\n",
              "      <td>21</td>\n",
              "      <td>Pune</td>\n",
              "      <td>Msc</td>\n",
              "    </tr>\n",
              "    <tr>\n",
              "      <th>1</th>\n",
              "      <td>Prince</td>\n",
              "      <td>23</td>\n",
              "      <td>Nasik</td>\n",
              "      <td>MA</td>\n",
              "    </tr>\n",
              "    <tr>\n",
              "      <th>2</th>\n",
              "      <td>Gangsta</td>\n",
              "      <td>24</td>\n",
              "      <td>Kolhapur</td>\n",
              "      <td>Msc</td>\n",
              "    </tr>\n",
              "    <tr>\n",
              "      <th>3</th>\n",
              "      <td>Wolf</td>\n",
              "      <td>21</td>\n",
              "      <td>Bangalore</td>\n",
              "      <td>Msc</td>\n",
              "    </tr>\n",
              "  </tbody>\n",
              "</table>\n",
              "</div>"
            ],
            "text/plain": [
              "      Name  Age       City Qualification\n",
              "0    Snake   21       Pune           Msc\n",
              "1   Prince   23      Nasik            MA\n",
              "2  Gangsta   24   Kolhapur           Msc\n",
              "3     Wolf   21  Bangalore           Msc"
            ]
          },
          "metadata": {
            "tags": []
          },
          "execution_count": 4
        }
      ]
    },
    {
      "cell_type": "code",
      "metadata": {
        "id": "QU8ti9DGHYjN",
        "colab": {
          "base_uri": "https://localhost:8080/",
          "height": 265
        },
        "outputId": "cfbabb38-828e-4872-e6bd-b6982e8a474a"
      },
      "source": [
        "#9.Program to Plot List of X, Y Coordinates in Matplotlib?\n",
        "import numpy as np\n",
        "import matplotlib.pyplot as plt\n",
        "  \n",
        "x = np.arange(1, 11, 1)  \n",
        "y = np.arange(10, 0, -1)  \n",
        "  \n",
        "# plot our list in X,Y coordinates\n",
        "plt.scatter(x, y)\n",
        "plt.show()"
      ],
      "execution_count": 3,
      "outputs": [
        {
          "output_type": "display_data",
          "data": {
            "image/png": "[encoded data removed]",
            "text/plain": [
              "<Figure size 432x288 with 1 Axes>"
            ]
          },
          "metadata": {
            "tags": [],
            "needs_background": "light"
          }
        }
      ]
    },
    {
      "cell_type": "code",
      "metadata": {
        "id": "DZ7kDfgaHYxx",
        "colab": {
          "base_uri": "https://localhost:8080/",
          "height": 1119
        },
        "outputId": "398b9002-6619-4c73-930a-1e379f5895e3"
      },
      "source": [
        "#10.Program to reads an image, display image and then represents the image in array.\n",
        "import matplotlib.pyplot as plt\n",
        "import matplotlib.image as img\n",
        "  \n",
        "testImage = img.imread('https://images.ctfassets.net/mrop88jh71hl/55rrbZfwMaURHZKAUc5oOW/9e5fe805eb03135b82e962e92169ce6d/python-programming-language.png')\n",
        "\n",
        "plt.imshow(testImage)\n",
        "\n",
        "print(testImage)"
      ],
      "execution_count": 2,
      "outputs": [
        {
          "output_type": "stream",
          "text": [
            "[[[1. 1. 1.]\n",
            "  [1. 1. 1.]\n",
            "  [1. 1. 1.]\n",
            "  ...\n",
            "  [1. 1. 1.]\n",
            "  [1. 1. 1.]\n",
            "  [1. 1. 1.]]\n",
            "\n",
            " [[1. 1. 1.]\n",
            "  [1. 1. 1.]\n",
            "  [1. 1. 1.]\n",
            "  ...\n",
            "  [1. 1. 1.]\n",
            "  [1. 1. 1.]\n",
            "  [1. 1. 1.]]\n",
            "\n",
            " [[1. 1. 1.]\n",
            "  [1. 1. 1.]\n",
            "  [1. 1. 1.]\n",
            "  ...\n",
            "  [1. 1. 1.]\n",
            "  [1. 1. 1.]\n",
            "  [1. 1. 1.]]\n",
            "\n",
            " ...\n",
            "\n",
            " [[1. 1. 1.]\n",
            "  [1. 1. 1.]\n",
            "  [1. 1. 1.]\n",
            "  ...\n",
            "  [1. 1. 1.]\n",
            "  [1. 1. 1.]\n",
            "  [1. 1. 1.]]\n",
            "\n",
            " [[1. 1. 1.]\n",
            "  [1. 1. 1.]\n",
            "  [1. 1. 1.]\n",
            "  ...\n",
            "  [1. 1. 1.]\n",
            "  [1. 1. 1.]\n",
            "  [1. 1. 1.]]\n",
            "\n",
            " [[1. 1. 1.]\n",
            "  [1. 1. 1.]\n",
            "  [1. 1. 1.]\n",
            "  ...\n",
            "  [1. 1. 1.]\n",
            "  [1. 1. 1.]\n",
            "  [1. 1. 1.]]]\n"
          ],
          "name": "stdout"
        },
        {
          "output_type": "display_data",
          "data": {
            "image/png": "[encoded data removed]",
            "text/plain": [
              "<Figure size 432x288 with 1 Axes>"
            ]
          },
          "metadata": {
            "tags": [],
            "needs_background": "light"
          }
        }
      ]
    }
  ]
}