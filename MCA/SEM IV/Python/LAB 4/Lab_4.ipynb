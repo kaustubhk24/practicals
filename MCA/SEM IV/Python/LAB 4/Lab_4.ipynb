{
  "nbformat": 4,
  "nbformat_minor": 0,
  "metadata": {
    "colab": {
      "name": "Lab 4.ipynb",
      "provenance": [],
      "collapsed_sections": []
    },
    "kernelspec": {
      "name": "python3",
      "display_name": "Python 3"
    },
    "language_info": {
      "name": "python"
    }
  },
  "cells": [
    {
      "cell_type": "code",
      "metadata": {
        "colab": {
          "base_uri": "https://localhost:8080/",
          "height": 0
        },
        "id": "snUPIPUSacvn",
        "outputId": "348f71ee-05ef-4253-91f2-e5d03724daa0"
      },
      "source": [
        "#  1.\tProgram to demonstrate Using the Same Variable Name in Calling Function and Function Definition\n",
        "\n",
        "def start(msg):\n",
        "  print(msg)\n",
        "\n",
        "msg=\"Hello\"\n",
        "start(msg)"
      ],
      "execution_count": 1,
      "outputs": [
        {
          "output_type": "stream",
          "text": [
            "Hello\n"
          ],
          "name": "stdout"
        }
      ]
    },
    {
      "cell_type": "code",
      "metadata": {
        "colab": {
          "base_uri": "https://localhost:8080/",
          "height": 0
        },
        "id": "yzVO3bNGbINZ",
        "outputId": "1f3f58d6-eae2-49e6-aa15-e8f2a4cf86d2"
      },
      "source": [
        "#  2.\tProgram to demonstrate the Return of Multiple Values from a Function Definition#   \n",
        "\n",
        "def swap(x,y):\n",
        "  return y,x\n",
        "\n",
        "print(swap(7,8))\n"
      ],
      "execution_count": 3,
      "outputs": [
        {
          "output_type": "stream",
          "text": [
            "(8, 7)\n"
          ],
          "name": "stdout"
        }
      ]
    },
    {
      "cell_type": "code",
      "metadata": {
        "colab": {
          "base_uri": "https://localhost:8080/",
          "height": 0
        },
        "id": "ocV1Q9lUba66",
        "outputId": "502f623e-584f-4ff9-8381-8a89868ba388"
      },
      "source": [
        "# 3.\tProgram to Check If a 3 Digit Number Is Armstrong Number or Not\n",
        "\n",
        "from math import *\n",
        "\n",
        "def armstrong(number):\n",
        "  result = 0\n",
        "  n = 0\n",
        "  temp = number\n",
        "  while (temp != 0):\n",
        "    temp =int(temp / 10)\n",
        "    n = n + 1\n",
        "  temp = number\n",
        "  while (temp != 0):\n",
        "    remainder = temp % 10\n",
        "    result = result + pow(remainder, n)\n",
        "    temp = int(temp/10)\n",
        "  if(result == number):\n",
        "    print(\"Armstrong number\")\n",
        "  else:\n",
        "    print(\"Not an Armstrong number\")\n",
        "\n",
        "\n",
        "\n",
        "number = int(input(\"Enter the number : \"))\n",
        "if(len(str(number))==3):\n",
        "  armstrong(number)\n",
        "else:\n",
        "  print(\"Enter 3 digit number\")\n"
      ],
      "execution_count": 14,
      "outputs": [
        {
          "output_type": "stream",
          "text": [
            "Enter the number : 371\n",
            "Armstrong number\n"
          ],
          "name": "stdout"
        }
      ]
    },
    {
      "cell_type": "code",
      "metadata": {
        "colab": {
          "base_uri": "https://localhost:8080/",
          "height": 0
        },
        "id": "hOjV1pDQcZNm",
        "outputId": "fb279e2f-afde-4466-8719-a20e36a9778b"
      },
      "source": [
        "# 4.\tProgram to demonstrate the Scope of Variables\n",
        "\n",
        "a=\"Global\"\n",
        "\n",
        "def fun(a):\n",
        "  print(a)\n",
        "\n",
        "print(a)\n",
        "fun(\"Local\")"
      ],
      "execution_count": 16,
      "outputs": [
        {
          "output_type": "stream",
          "text": [
            "Global\n",
            "Local\n"
          ],
          "name": "stdout"
        }
      ]
    },
    {
      "cell_type": "code",
      "metadata": {
        "colab": {
          "base_uri": "https://localhost:8080/",
          "height": 0
        },
        "id": "oFEC-qFZdZDo",
        "outputId": "93c3c12c-1804-430e-f4d8-e1c51b6e8540"
      },
      "source": [
        "# 5.\tCalculate and Add the Surface Area of Two Cubes. Use Nested Functions\n",
        "\n",
        "def SurfaceAreaOf2Cubes(a1,a2):\n",
        "  A1=6*a1*a1\n",
        "  print(\"Surface Area of First Cube is \",A1)\n",
        "\n",
        "  def SAO2C(a2):\n",
        "    A2=6*a2*a2\n",
        "    print(\"Surface Area of Second Cube is \",A2)\n",
        "\n",
        "\n",
        "    def Total(A1,A2):\n",
        "      print(\"After adding \",A1+A2)\n",
        "\n",
        "    Total(A1,A2)\n",
        "    \n",
        "  SAO2C(a2)\n",
        "\n",
        "\n",
        "SurfaceAreaOf2Cubes(int(input(\"Enter Edge of First Cube :\")),int(input(\"Enter Edge of First Cube :\")))\n"
      ],
      "execution_count": 25,
      "outputs": [
        {
          "output_type": "stream",
          "text": [
            "Enter Edge of First Cube :15\n",
            "Enter Edge of First Cube :12\n",
            "Surface Area of First Cube is  1350\n",
            "Surface Area of Second Cube is  864\n",
            "After adding  2214\n"
          ],
          "name": "stdout"
        }
      ]
    },
    {
      "cell_type": "code",
      "metadata": {
        "colab": {
          "base_uri": "https://localhost:8080/",
          "height": 0
        },
        "id": "vZRdE5Utf6W9",
        "outputId": "d12e5f92-fa2a-45cb-f34a-4331c6709d53"
      },
      "source": [
        "# 6.\tProgram to demonstrate the Use of Keyword Arguments\n",
        "\n",
        "def my_function(v1, v2, v3):\n",
        "  print(v3)\n",
        "\n",
        "my_function(v1=3, v2=5,v3=8)"
      ],
      "execution_count": 26,
      "outputs": [
        {
          "output_type": "stream",
          "text": [
            "8\n"
          ],
          "name": "stdout"
        }
      ]
    },
    {
      "cell_type": "code",
      "metadata": {
        "id": "70bjlcm6gfsp"
      },
      "source": [
        "# 7 is duplicate of #6"
      ],
      "execution_count": null,
      "outputs": []
    },
    {
      "cell_type": "code",
      "metadata": {
        "colab": {
          "base_uri": "https://localhost:8080/",
          "height": 0
        },
        "id": "V91vmsRWgmPg",
        "outputId": "4eae3a55-8acf-4252-ce1c-d3582a9a4cdd"
      },
      "source": [
        "# 8.\tProgram to demonstrate the Use of *args and **kwargs\n",
        "\n",
        "def adder(*num,**data):\n",
        "    sum = 0\n",
        "    \n",
        "    for n in num:\n",
        "        sum = sum + n\n",
        "    print(\"Sum:\",sum)\n",
        "\n",
        "    for key, value in data.items():\n",
        "        print(\"{} is {}\".format(key,value))\n",
        "\n",
        "\n",
        "adder(3,5,Firstname=\"K\", Lastname=\"K\", Age=222, Phone=1234567890)\n"
      ],
      "execution_count": 29,
      "outputs": [
        {
          "output_type": "stream",
          "text": [
            "Sum: 8\n",
            "Firstname is K\n",
            "Lastname is K\n",
            "Age is 222\n",
            "Phone is 1234567890\n"
          ],
          "name": "stdout"
        }
      ]
    },
    {
      "cell_type": "code",
      "metadata": {
        "colab": {
          "base_uri": "https://localhost:8080/",
          "height": 0
        },
        "id": "filqKb0MhoEI",
        "outputId": "55680b47-5397-446d-8980-82d886976b8c"
      },
      "source": [
        "# 9.\tProgram to demonstrate Decorators in Python\n",
        "\n",
        "def first(msg):\n",
        "    print(msg)\n",
        "\n",
        "def second(func, msg):\n",
        "    func(msg)\n",
        "\n",
        "second(first, \"Hello!\")"
      ],
      "execution_count": 30,
      "outputs": [
        {
          "output_type": "stream",
          "text": [
            "Hello!\n"
          ],
          "name": "stdout"
        }
      ]
    },
    {
      "cell_type": "code",
      "metadata": {
        "colab": {
          "base_uri": "https://localhost:8080/",
          "height": 0
        },
        "id": "IZj1b2xXifIa",
        "outputId": "688277d8-8ed9-4a3c-e5da-7dade7746183"
      },
      "source": [
        "# 10. Program to demonstrate Iterator in Python\n",
        "\n",
        "arr={10,20,30,40,50,60,70}\n",
        "sum=0\n",
        "for i in arr:\n",
        "  sum+=i\n",
        "print(sum)\n"
      ],
      "execution_count": 33,
      "outputs": [
        {
          "output_type": "stream",
          "text": [
            "280\n"
          ],
          "name": "stdout"
        }
      ]
    },
    {
      "cell_type": "code",
      "metadata": {
        "colab": {
          "base_uri": "https://localhost:8080/",
          "height": 0
        },
        "id": "YAVOh1YLjNuK",
        "outputId": "8cb05c50-03bc-4713-f5cd-cafc6ae3d224"
      },
      "source": [
        "# 11.\tProgram to demonstrate Generators in Python\n",
        "\n",
        "def func(a):\n",
        "    yield a\n",
        "a=[1,2,3]\n",
        " \n",
        "b=func(a)\n",
        "next(b)"
      ],
      "execution_count": 34,
      "outputs": [
        {
          "output_type": "execute_result",
          "data": {
            "text/plain": [
              "[1, 2, 3]"
            ]
          },
          "metadata": {
            "tags": []
          },
          "execution_count": 34
        }
      ]
    },
    {
      "cell_type": "code",
      "metadata": {
        "colab": {
          "base_uri": "https://localhost:8080/",
          "height": 0
        },
        "id": "5XgBhptGjpUD",
        "outputId": "8e6d50ab-2635-4e71-c74a-717357dfe1a6"
      },
      "source": [
        "# 12.\t Program to demonstrate lambda functions using filter() and map() function\n",
        "\n",
        "tup= (5, 7, 22, 97, 54, 62, 77, 23, 73, 61)\n",
        "print(tuple(map(lambda x: x+1 , tup)))\n",
        "\n",
        "y = filter(lambda x: (x>=10), tup)\n",
        "print(list(y))"
      ],
      "execution_count": 41,
      "outputs": [
        {
          "output_type": "stream",
          "text": [
            "(6, 8, 23, 98, 55, 63, 78, 24, 74, 62)\n",
            "[22, 97, 54, 62, 77, 23, 73, 61]\n"
          ],
          "name": "stdout"
        }
      ]
    },
    {
      "cell_type": "code",
      "metadata": {
        "colab": {
          "base_uri": "https://localhost:8080/",
          "height": 0
        },
        "id": "0KNAcDlGjr51",
        "outputId": "03d96c86-3db8-4d96-dde1-47ead0fc45d5"
      },
      "source": [
        "# 13.\t Program to demonstrate the use of math module and use of its various mathematical functions.\n",
        "\n",
        "import math\n",
        "\n",
        "print(math.pi)\n",
        "print(math.e) #Euler's number\n",
        "print(math.log(10))\n",
        "print(math.exp(10))\n",
        "print(math.e**10)\n",
        "print(math.sqrt(9))\n"
      ],
      "execution_count": 45,
      "outputs": [
        {
          "output_type": "stream",
          "text": [
            "3.141592653589793\n",
            "2.718281828459045\n",
            "2.302585092994046\n",
            "22026.465794806718\n",
            "22026.465794806703\n",
            "3.0\n"
          ],
          "name": "stdout"
        }
      ]
    }
  ]
}